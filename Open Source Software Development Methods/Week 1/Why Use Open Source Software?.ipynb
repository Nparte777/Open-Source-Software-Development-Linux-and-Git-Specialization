{
 "cells": [
  {
   "cell_type": "markdown",
   "metadata": {},
   "source": [
    "# Quiz 2"
   ]
  },
  {
   "cell_type": "markdown",
   "metadata": {},
   "source": [
    "1.From a business perspective, use of OSS (Select all answers that apply):\n",
    "\n",
    "    Answer: - Makes marketing easier as some ingredients are already well-known and trusted\n",
    "            - Enables use of ingredients from other sources and speeds development\n",
    "\n",
    "2.OSS is (Select all answers that apply):\n",
    "    \n",
    "    Answer: - Secure or insecure depending on the quality and priorities of the project maintainers, but at least                 users can judge this by open discussion and code inspection\n",
    "            - Can be more secure because many developers can easily see the code, look for problems, and mitigate                 problems when they are discovered\n",
    "\n",
    "3.For school systems at any level, use of OSS (Select all answers that apply):\n",
    "    \n",
    "    Answer: - Can lower costs by letting older hardware be used\n",
    "            - Can lower costs by letting low-cost or free software be used\n",
    "4.School systems can benefit from using OSS because (Select all answers that apply):\n",
    "    \n",
    "    Answer: - Students may learn how to join projects and contribute from an early age or stage in their education\n",
    "            - As the world's IT infrastructure becomes more and more OSS-based, students will be better prepared to               enter the work force especially as developers\n",
    "            - Students can more easily learn about how things really work as compared to using closed source                     operating systems and applications\n",
    "\n",
    "5.Developers working in OSS will:\n",
    "\n",
    "    Answer:  Will often find it easier to get good jobs because their work will be more open to inspection"
   ]
  }
 ],
 "metadata": {
  "kernelspec": {
   "display_name": "Python 3",
   "language": "python",
   "name": "python3"
  },
  "language_info": {
   "codemirror_mode": {
    "name": "ipython",
    "version": 3
   },
   "file_extension": ".py",
   "mimetype": "text/x-python",
   "name": "python",
   "nbconvert_exporter": "python",
   "pygments_lexer": "ipython3",
   "version": "3.8.2"
  }
 },
 "nbformat": 4,
 "nbformat_minor": 4
}
