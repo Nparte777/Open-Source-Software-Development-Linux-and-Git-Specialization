{
 "cells": [
  {
   "cell_type": "markdown",
   "metadata": {},
   "source": [
    "# History of OSS :\n",
    "\n",
    "Term dated in 1998 but concept was seen as far back as 1950s.\n",
    "1950s - Was Used in Research More actively\n",
    "1960s - Major Ascpets of Linux and Software were developing rapidly\n",
    "1970s - OSS was slowly shaped in mid 1970s\n",
    "1980s - Projects with OSS were getting more popular FSF and GNU\n",
    "1990s - Linux Torvalds was Created in 1991 and with call for new OS\n",
    "        GNOME,KDE,PHP,GIMP,Ruby all were released\n",
    "        "
   ]
  },
  {
   "cell_type": "code",
   "execution_count": null,
   "metadata": {},
   "outputs": [],
   "source": []
  }
 ],
 "metadata": {
  "kernelspec": {
   "display_name": "Python 3",
   "language": "python",
   "name": "python3"
  },
  "language_info": {
   "codemirror_mode": {
    "name": "ipython",
    "version": 3
   },
   "file_extension": ".py",
   "mimetype": "text/x-python",
   "name": "python",
   "nbconvert_exporter": "python",
   "pygments_lexer": "ipython3",
   "version": "3.8.2"
  }
 },
 "nbformat": 4,
 "nbformat_minor": 4
}
