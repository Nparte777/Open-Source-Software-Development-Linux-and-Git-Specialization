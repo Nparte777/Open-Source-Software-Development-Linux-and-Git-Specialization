{
 "cells": [
  {
   "cell_type": "markdown",
   "metadata": {},
   "source": [
    "# Quiz 1"
   ]
  },
  {
   "cell_type": "markdown",
   "metadata": {},
   "source": [
    "1.What are the main types of Open Source Software (OSS) licenses? Select all answers that apply.\n",
    "\n",
    "    Answer : Restrictive ,Permissive\n",
    " \n",
    "2.Linux began:\n",
    "\n",
    "    Answer : In 1991 with an Internet post by a stuent in Finland\n",
    "    \n",
    "3.Which method best describes the way Android is developed?\n",
    "\n",
    "    Answer : Company-Led\n",
    " \n",
    "4.Which method best describes the way FreeBSD is developed?\n",
    "\n",
    "    Answer : Governing Board\n",
    "\n",
    "5.Which method best describes the way Linux kernel is developed?\n",
    "\n",
    "    Answer : Benevolent Dictatorship"
   ]
  }
 ],
 "metadata": {
  "kernelspec": {
   "display_name": "Python 3",
   "language": "python",
   "name": "python3"
  },
  "language_info": {
   "codemirror_mode": {
    "name": "ipython",
    "version": 3
   },
   "file_extension": ".py",
   "mimetype": "text/x-python",
   "name": "python",
   "nbconvert_exporter": "python",
   "pygments_lexer": "ipython3",
   "version": "3.8.2"
  }
 },
 "nbformat": 4,
 "nbformat_minor": 4
}
