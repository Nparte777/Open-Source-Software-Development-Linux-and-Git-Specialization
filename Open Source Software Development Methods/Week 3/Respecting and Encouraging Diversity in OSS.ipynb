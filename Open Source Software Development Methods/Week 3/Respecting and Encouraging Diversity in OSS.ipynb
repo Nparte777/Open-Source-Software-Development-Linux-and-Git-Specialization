{
 "cells": [
  {
   "cell_type": "markdown",
   "metadata": {},
   "source": [
    "# Quiz 2"
   ]
  },
  {
   "cell_type": "markdown",
   "metadata": {},
   "source": [
    "#### 1. OSS projects should explicitly encourage diversity with respect to (Select all answers that apply):"
   ]
  },
  {
   "cell_type": "markdown",
   "metadata": {},
   "source": [
    "Answer : \n",
    "- Sex and gender identity\n",
    "- National origin and language\n",
    "- Race"
   ]
  },
  {
   "cell_type": "markdown",
   "metadata": {},
   "source": [
    "#### 2. The majority of OSS projects carry out their discussions in English. Therefore (Select all answers that apply):"
   ]
  },
  {
   "cell_type": "markdown",
   "metadata": {},
   "source": [
    "Answer : One should always speak as clearly as possible, and while not being dull, think about the audience and what they will be familiar with"
   ]
  },
  {
   "cell_type": "markdown",
   "metadata": {},
   "source": [
    "#### 3. With respect to criticism, an OSS contributor and reviewer should (Select all answers that apply):¶"
   ]
  },
  {
   "cell_type": "markdown",
   "metadata": {},
   "source": [
    "Answer : \n",
    "- Answer thoughtfully and point out where one agrees or disagrees, where changes are accepted or not.\n",
    "- Not hold back, it is important to have open and forthright discussion"
   ]
  },
  {
   "cell_type": "markdown",
   "metadata": {},
   "source": [
    "#### 4. Some one on an OSS mailing list introduces a political aside and perhaps a preference during a technical discussion. Appropriate responses include (Select all correct answers):"
   ]
  },
  {
   "cell_type": "markdown",
   "metadata": {},
   "source": [
    "Answer : \n",
    "- Ignore the point and just address the technical issues as needed.\n",
    "- Acknowledge the issue but briefly without putting down anyone with differing opinions. Avoid amplifying"
   ]
  },
  {
   "cell_type": "markdown",
   "metadata": {},
   "source": [
    "#### 5. You propose a new way of doing something, or adding a new feature. Another contributor points out this idea was reject previously. You should (Select all answers that apply):"
   ]
  },
  {
   "cell_type": "markdown",
   "metadata": {},
   "source": [
    "Answer :\n",
    "- Study the previous discussion and see whether it applies, including whether or not differences between your ideas and the old ones were not seen\n",
    "- Ask whether or not technical abilities have evolved to the point where something that was not feasible can be done today\n",
    "- Ask whether the need for this feature has grown; the earlier discussion may have been premature"
   ]
  }
 ],
 "metadata": {
  "kernelspec": {
   "display_name": "Python 3",
   "language": "python",
   "name": "python3"
  },
  "language_info": {
   "codemirror_mode": {
    "name": "ipython",
    "version": 3
   },
   "file_extension": ".py",
   "mimetype": "text/x-python",
   "name": "python",
   "nbconvert_exporter": "python",
   "pygments_lexer": "ipython3",
   "version": "3.7.7"
  }
 },
 "nbformat": 4,
 "nbformat_minor": 4
}
