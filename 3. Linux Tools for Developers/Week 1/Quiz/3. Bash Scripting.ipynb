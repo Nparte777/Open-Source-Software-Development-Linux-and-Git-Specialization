{
 "cells": [
  {
   "cell_type": "markdown",
   "metadata": {},
   "source": [
    "# Quiz 3"
   ]
  },
  {
   "cell_type": "markdown",
   "metadata": {},
   "source": [
    "#### 1. Which of the following commands are equivalent (Select all answers that apply)?"
   ]
  },
  {
   "cell_type": "markdown",
   "metadata": {},
   "source": [
    "Answer : \n",
    "- if [ -f file.c ] ; then cat file.c ; fi\n",
    "- [[ -f file.c ]] && cat file.c\n",
    "- if [[ -f file.c ]] ; then cat file.c ; fi\n",
    "- if test -f file.c ; then cat file.c ; fi"
   ]
  },
  {
   "cell_type": "markdown",
   "metadata": {},
   "source": [
    "#### 2. Which commands will list all files under the current directory ending in \"~\" (Select all answers that apply)?<br>\n",
    "#### Note: Output lists may differ in format."
   ]
  },
  {
   "cell_type": "markdown",
   "metadata": {},
   "source": [
    "Answer : \n",
    "- find . -name \"*~\" -exec ls -l {} ';'\n",
    "- find . -name \"*~\" -ls\n",
    "- find . -name \"*~\" | xargs ls -l\n",
    "- ls -l $(find . -name \"*~\")"
   ]
  },
  {
   "cell_type": "markdown",
   "metadata": {},
   "source": [
    "#### 3. Functions (subprograms) are useful in bash scripts because (Select all answers that apply):"
   ]
  },
  {
   "cell_type": "markdown",
   "metadata": {},
   "source": [
    "Answer : \n",
    "- It is better not to have to call another script to get things done\n",
    "- They make things easier to read and comprehend\n",
    "- They eliminate the need to retype the same set of commands more than once"
   ]
  },
  {
   "cell_type": "markdown",
   "metadata": {},
   "source": [
    "#### 4. How would you get the value of a variable named VAR into a script?"
   ]
  },
  {
   "cell_type": "markdown",
   "metadata": {},
   "source": [
    "Answer : read VAR"
   ]
  },
  {
   "cell_type": "markdown",
   "metadata": {},
   "source": [
    "#### "
   ]
  },
  {
   "cell_type": "markdown",
   "metadata": {},
   "source": [
    "#### 5. Select the correct statement:"
    "Answer : A bash function must be placed before it is used in a script"
   ]
  }
 ],
 "metadata": {
  "kernelspec": {
   "display_name": "Python 3",
   "language": "python",
   "name": "python3"
  },
  "language_info": {
   "codemirror_mode": {
    "name": "ipython",
    "version": 3
   },
   "file_extension": ".py",
   "mimetype": "text/x-python",
   "name": "python",
   "nbconvert_exporter": "python",
   "pygments_lexer": "ipython3",
   "version": "3.8.2"
  }
 },
 "nbformat": 4,
 "nbformat_minor": 2
}
