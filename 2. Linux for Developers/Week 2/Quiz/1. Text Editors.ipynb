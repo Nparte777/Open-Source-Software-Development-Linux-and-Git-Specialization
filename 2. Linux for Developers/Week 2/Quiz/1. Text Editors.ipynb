{
 "cells": [
  {
   "cell_type": "markdown",
   "metadata": {},
   "source": [
    "# Quiz 1"
   ]
  },
  {
   "cell_type": "markdown",
   "metadata": {},
   "source": [
    "#### 1. Which of the following statements is true?"
   ]
  },
  {
   "cell_type": "markdown",
   "metadata": {},
   "source": [
    "Answer : You can go back and forth between editors as much as you would like without a conversion process"
   ]
  },
  {
   "cell_type": "markdown",
   "metadata": {},
   "source": [
    "#### 2. Which of the following methods can be used to produce a file with 3 lines in it? Select all answers that apply."
   ]
  },
  {
   "cell_type": "code",
   "execution_count": null,
   "metadata": {},
   "outputs": [],
   "source": [
    "Answer :\n",
    "\n",
    "    • $ echo -e 'line one\\nline two\\nline three ' > myfile\n",
    "\n",
    "    • $ cat << EOF > myfile\n",
    "      > line one\n",
    "      > line two\n",
    "      > line three\n",
    "      > EOF\n",
    "      $\n",
    "\n",
    "    • $ echo line one > myfile\n",
    "      $ echo line two >> myfile\n",
    "      $ echo line three >> myfile"
   ]
  },
  {
   "cell_type": "markdown",
   "metadata": {},
   "source": [
    "#### 3. Which statement is true?"
   ]
  },
  {
   "cell_type": "markdown",
   "metadata": {},
   "source": [
    "Answer : vi involves switching between command and insert mode by hitting the Escape key"
   ]
  },
  {
   "cell_type": "markdown",
   "metadata": {},
   "source": [
    "#### 4. Which pair of editors has partisan advocates who tend to wage war over which is better than the other?"
   ]
  },
  {
   "cell_type": "markdown",
   "metadata": {},
   "source": [
    "Answer : vi and emacs"
   ]
  },
  {
   "cell_type": "markdown",
   "metadata": {},
   "source": [
    "#### 5. Which editor can always be found installed by default on virtually any Linux system?"
   ]
  },
  {
   "cell_type": "markdown",
   "metadata": {},
   "source": [
    "Answer : vi"
   ]
  }
 ],
 "metadata": {
  "kernelspec": {
   "display_name": "Python 3",
   "language": "python",
   "name": "python3"
  },
  "language_info": {
   "codemirror_mode": {
    "name": "ipython",
    "version": 3
   },
   "file_extension": ".py",
   "mimetype": "text/x-python",
   "name": "python",
   "nbconvert_exporter": "python",
   "pygments_lexer": "ipython3",
   "version": "3.7.7"
  }
 },
 "nbformat": 4,
 "nbformat_minor": 4
}
