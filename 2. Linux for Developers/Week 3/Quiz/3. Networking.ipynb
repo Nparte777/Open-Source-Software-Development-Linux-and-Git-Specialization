{
 "cells": [
  {
   "cell_type": "markdown",
   "metadata": {},
   "source": [
    "# Quiz 3"
   ]
  },
  {
   "cell_type": "markdown",
   "metadata": {},
   "source": [
    "#### 1. Which networking configuration interface is newer and has extended capabilities?"
   ]
  },
  {
   "cell_type": "markdown",
   "metadata": {},
   "source": [
    "Answer : ip"
   ]
  },
  {
   "cell_type": "markdown",
   "metadata": {},
   "source": [
    "#### 2. Using Predictable Network Interface Device Names (PNIDN) has come into use because:"
   ]
  },
  {
   "cell_type": "markdown",
   "metadata": {},
   "source": [
    "Answer : \n",
    "- Many computers are no longer in one location; for example, laptops are on the move, and available interfaces are subject to change\n",
    "- On modern systems, the order in which network hardware is found is less predictable\n",
    "- Hardware such as USB devices can be added and removed at runtime"
   ]
  },
  {
   "cell_type": "markdown",
   "metadata": {},
   "source": [
    "#### 3. Which command(s) will bring the network interface eth0 up and assign an address to it?"
   ]
  },
  {
   "cell_type": "markdown",
   "metadata": {},
   "source": [
    "Answer : \n",
    "- sudo ifconfig eth0 up 192.168.1.100\n",
    "- sudo ip addr add 192.168.1.100 dev eth0"
   ]
  },
  {
   "cell_type": "markdown",
   "metadata": {},
   "source": [
    "#### 4. You can see statistics for the eth0 interface by (select all answers that apply):"
   ]
  },
  {
   "cell_type": "markdown",
   "metadata": {},
   "source": [
    "Answer : \n",
    "- doing sudo ifconfig eth0\n",
    "- doing sudo ip -s link show eth0\n",
    "- looking at /sys/class/net/eth0/statistics"
   ]
  },
  {
   "cell_type": "markdown",
   "metadata": {},
   "source": [
    "#### 5. What does MTU stand for?"
   ]
  },
  {
   "cell_type": "markdown",
   "metadata": {},
   "source": [
    "Answer : Maximum Transfer Unit (usually 1500 bytes by default) for Ethernet packets"
   ]
  }
 ],
 "metadata": {
  "kernelspec": {
   "display_name": "Python 3",
   "language": "python",
   "name": "python3"
  },
  "language_info": {
   "codemirror_mode": {
    "name": "ipython",
    "version": 3
   },
   "file_extension": ".py",
   "mimetype": "text/x-python",
   "name": "python",
   "nbconvert_exporter": "python",
   "pygments_lexer": "ipython3",
   "version": "3.8.2"
  }
 },
 "nbformat": 4,
 "nbformat_minor": 2
}
